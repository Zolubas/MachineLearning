{
 "cells": [
  {
   "cell_type": "markdown",
   "metadata": {},
   "source": [
    "Aluno: Fernando Zolubas Preto\n",
    "Nusp: 10694192\n",
    "\n",
    "Esse notebook contem apenas o \"data preparation\" A implementacao do algoritimo KNN, o cross validation e o teste de accuracy estão no outro notebook."
   ]
  },
  {
   "cell_type": "code",
   "execution_count": 1,
   "metadata": {},
   "outputs": [],
   "source": [
    "import numpy as np\n",
    "import matplotlib.pyplot as plt\n",
    "import sklearn as skl\n",
    "import pandas as pd"
   ]
  },
  {
   "cell_type": "code",
   "execution_count": 2,
   "metadata": {},
   "outputs": [],
   "source": [
    "adult = pd.read_csv(r\"C:\\Users\\Fernando\\Desktop\\Poli Usp\\4 semestre\\Machine Learning\\adult.csv\",\n",
    "        names=[\n",
    "        \"Age\", \"Workclass\", \"fnlwgt\", \"Education\", \"Education-Num\", \"Martial Status\",\n",
    "        \"Occupation\", \"Relationship\", \"Race\", \"Sex\", \"Capital Gain\", \"Capital Loss\",\n",
    "        \"Hours per week\", \"Country\", \"Target\"],\n",
    "        sep=r'\\s*,\\s*',\n",
    "        engine='python',\n",
    "        na_values=\"?\")"
   ]
  },
  {
   "cell_type": "code",
   "execution_count": 3,
   "metadata": {},
   "outputs": [
    {
     "data": {
      "text/plain": [
       "(32561, 15)"
      ]
     },
     "execution_count": 3,
     "metadata": {},
     "output_type": "execute_result"
    }
   ],
   "source": [
    "adult.shape "
   ]
  },
  {
   "cell_type": "markdown",
   "metadata": {},
   "source": [
    "A data base possui 32561 entrevistados; 14 perguntas (atributos); 1 Classificacao (Lable)\n"
   ]
  },
  {
   "cell_type": "code",
   "execution_count": 4,
   "metadata": {},
   "outputs": [
    {
     "data": {
      "text/html": [
       "<div>\n",
       "<style scoped>\n",
       "    .dataframe tbody tr th:only-of-type {\n",
       "        vertical-align: middle;\n",
       "    }\n",
       "\n",
       "    .dataframe tbody tr th {\n",
       "        vertical-align: top;\n",
       "    }\n",
       "\n",
       "    .dataframe thead th {\n",
       "        text-align: right;\n",
       "    }\n",
       "</style>\n",
       "<table border=\"1\" class=\"dataframe\">\n",
       "  <thead>\n",
       "    <tr style=\"text-align: right;\">\n",
       "      <th></th>\n",
       "      <th>Age</th>\n",
       "      <th>Workclass</th>\n",
       "      <th>fnlwgt</th>\n",
       "      <th>Education</th>\n",
       "      <th>Education-Num</th>\n",
       "      <th>Martial Status</th>\n",
       "      <th>Occupation</th>\n",
       "      <th>Relationship</th>\n",
       "      <th>Race</th>\n",
       "      <th>Sex</th>\n",
       "      <th>Capital Gain</th>\n",
       "      <th>Capital Loss</th>\n",
       "      <th>Hours per week</th>\n",
       "      <th>Country</th>\n",
       "      <th>Target</th>\n",
       "    </tr>\n",
       "  </thead>\n",
       "  <tbody>\n",
       "    <tr>\n",
       "      <th>0</th>\n",
       "      <td>39</td>\n",
       "      <td>State-gov</td>\n",
       "      <td>77516</td>\n",
       "      <td>Bachelors</td>\n",
       "      <td>13</td>\n",
       "      <td>Never-married</td>\n",
       "      <td>Adm-clerical</td>\n",
       "      <td>Not-in-family</td>\n",
       "      <td>White</td>\n",
       "      <td>Male</td>\n",
       "      <td>2174</td>\n",
       "      <td>0</td>\n",
       "      <td>40</td>\n",
       "      <td>United-States</td>\n",
       "      <td>&lt;=50K</td>\n",
       "    </tr>\n",
       "    <tr>\n",
       "      <th>1</th>\n",
       "      <td>50</td>\n",
       "      <td>Self-emp-not-inc</td>\n",
       "      <td>83311</td>\n",
       "      <td>Bachelors</td>\n",
       "      <td>13</td>\n",
       "      <td>Married-civ-spouse</td>\n",
       "      <td>Exec-managerial</td>\n",
       "      <td>Husband</td>\n",
       "      <td>White</td>\n",
       "      <td>Male</td>\n",
       "      <td>0</td>\n",
       "      <td>0</td>\n",
       "      <td>13</td>\n",
       "      <td>United-States</td>\n",
       "      <td>&lt;=50K</td>\n",
       "    </tr>\n",
       "    <tr>\n",
       "      <th>2</th>\n",
       "      <td>38</td>\n",
       "      <td>Private</td>\n",
       "      <td>215646</td>\n",
       "      <td>HS-grad</td>\n",
       "      <td>9</td>\n",
       "      <td>Divorced</td>\n",
       "      <td>Handlers-cleaners</td>\n",
       "      <td>Not-in-family</td>\n",
       "      <td>White</td>\n",
       "      <td>Male</td>\n",
       "      <td>0</td>\n",
       "      <td>0</td>\n",
       "      <td>40</td>\n",
       "      <td>United-States</td>\n",
       "      <td>&lt;=50K</td>\n",
       "    </tr>\n",
       "    <tr>\n",
       "      <th>3</th>\n",
       "      <td>53</td>\n",
       "      <td>Private</td>\n",
       "      <td>234721</td>\n",
       "      <td>11th</td>\n",
       "      <td>7</td>\n",
       "      <td>Married-civ-spouse</td>\n",
       "      <td>Handlers-cleaners</td>\n",
       "      <td>Husband</td>\n",
       "      <td>Black</td>\n",
       "      <td>Male</td>\n",
       "      <td>0</td>\n",
       "      <td>0</td>\n",
       "      <td>40</td>\n",
       "      <td>United-States</td>\n",
       "      <td>&lt;=50K</td>\n",
       "    </tr>\n",
       "    <tr>\n",
       "      <th>4</th>\n",
       "      <td>28</td>\n",
       "      <td>Private</td>\n",
       "      <td>338409</td>\n",
       "      <td>Bachelors</td>\n",
       "      <td>13</td>\n",
       "      <td>Married-civ-spouse</td>\n",
       "      <td>Prof-specialty</td>\n",
       "      <td>Wife</td>\n",
       "      <td>Black</td>\n",
       "      <td>Female</td>\n",
       "      <td>0</td>\n",
       "      <td>0</td>\n",
       "      <td>40</td>\n",
       "      <td>Cuba</td>\n",
       "      <td>&lt;=50K</td>\n",
       "    </tr>\n",
       "  </tbody>\n",
       "</table>\n",
       "</div>"
      ],
      "text/plain": [
       "   Age         Workclass  fnlwgt  Education  Education-Num  \\\n",
       "0   39         State-gov   77516  Bachelors             13   \n",
       "1   50  Self-emp-not-inc   83311  Bachelors             13   \n",
       "2   38           Private  215646    HS-grad              9   \n",
       "3   53           Private  234721       11th              7   \n",
       "4   28           Private  338409  Bachelors             13   \n",
       "\n",
       "       Martial Status         Occupation   Relationship   Race     Sex  \\\n",
       "0       Never-married       Adm-clerical  Not-in-family  White    Male   \n",
       "1  Married-civ-spouse    Exec-managerial        Husband  White    Male   \n",
       "2            Divorced  Handlers-cleaners  Not-in-family  White    Male   \n",
       "3  Married-civ-spouse  Handlers-cleaners        Husband  Black    Male   \n",
       "4  Married-civ-spouse     Prof-specialty           Wife  Black  Female   \n",
       "\n",
       "   Capital Gain  Capital Loss  Hours per week        Country Target  \n",
       "0          2174             0              40  United-States  <=50K  \n",
       "1             0             0              13  United-States  <=50K  \n",
       "2             0             0              40  United-States  <=50K  \n",
       "3             0             0              40  United-States  <=50K  \n",
       "4             0             0              40           Cuba  <=50K  "
      ]
     },
     "execution_count": 4,
     "metadata": {},
     "output_type": "execute_result"
    }
   ],
   "source": [
    "adult.head() #printei o \"cabecalho dos dados\" para visualizar como seria a minha base de dados."
   ]
  },
  {
   "cell_type": "markdown",
   "metadata": {},
   "source": [
    "Data perp (Preparacao dos dados)\n"
   ]
  },
  {
   "cell_type": "markdown",
   "metadata": {},
   "source": [
    "Estrategias de visualizacao dos dados. 1) Contabilidade de elementos em cada lable 2) Graficar em barras (contabilizar visualmente) 3) Outros graficos que permitam entender o problema 4) Graficar graficos Xi vs Y"
   ]
  },
  {
   "cell_type": "code",
   "execution_count": 5,
   "metadata": {},
   "outputs": [],
   "source": [
    "# Essa funcao permite saber\n",
    "#quantas pessoas com dada caracteristica ganham menos de 50k anualmente\n",
    "def ganhaPouco(caracteristica,nome_coluna):\n",
    "    estado = 0\n",
    "    total = 0\n",
    "    for i in range(adult.shape[0]):\n",
    "        if (adult[nome_coluna][i]==caracteristica):\n",
    "            total = total + 1\n",
    "            if (adult[\"Target\"][i]==\"<=50K\"):\n",
    "                estado = estado + 1\n",
    "    print(\"Numero de: \", caracteristica,\"que ganham <=50k :\" , estado)\n",
    "    print(\"Numero total de : \", caracteristica, total)\n",
    "    print(\"Porcentagem de pessoas que ganham menos de 50k : \",100*estado/total,\"%\")\n",
    "    print(\" \")"
   ]
  },
  {
   "cell_type": "code",
   "execution_count": 6,
   "metadata": {},
   "outputs": [
    {
     "data": {
      "text/plain": [
       "<matplotlib.axes._subplots.AxesSubplot at 0x233468fc0b8>"
      ]
     },
     "execution_count": 6,
     "metadata": {},
     "output_type": "execute_result"
    },
    {
     "data": {
      "image/png": "[encoded data removed]",
      "text/plain": [
       "<Figure size 432x288 with 1 Axes>"
      ]
     },
     "metadata": {
      "needs_background": "light"
     },
     "output_type": "display_data"
    }
   ],
   "source": [
    "adult[\"Age\"].value_counts().plot(kind=\"bar\")"
   ]
  },
  {
   "cell_type": "markdown",
   "metadata": {},
   "source": [
    "A idade nao aprensenta grande pico em algum valor em especial. Sendo assim parece razoavel considera-la na anlise do KNN."
   ]
  },
  {
   "cell_type": "code",
   "execution_count": 7,
   "metadata": {},
   "outputs": [
    {
     "data": {
      "text/plain": [
       "Private             22696\n",
       "Self-emp-not-inc     2541\n",
       "Local-gov            2093\n",
       "State-gov            1298\n",
       "Self-emp-inc         1116\n",
       "Federal-gov           960\n",
       "Without-pay            14\n",
       "Never-worked            7\n",
       "Name: Workclass, dtype: int64"
      ]
     },
     "execution_count": 7,
     "metadata": {},
     "output_type": "execute_result"
    }
   ],
   "source": [
    "adult[\"Workclass\"].value_counts()"
   ]
  },
  {
   "cell_type": "markdown",
   "metadata": {},
   "source": [
    "Dos dados concluimos, sem muito rigor, que existe uma chance de 70% de uma outra pessoa se enquadrar nessa categoria que eh dominante no mercado de trabalho em que se aplica o classificador almejado. Ou seja, nao compensa usar essa caracteristica no KNN pois em muitos casos os vizinhos mais proximos serao trabalhadores da classe privada independentemente de considera-la ou nao na analise do KNN."
   ]
  },
  {
   "cell_type": "code",
   "execution_count": 8,
   "metadata": {},
   "outputs": [
    {
     "data": {
      "text/plain": [
       "<matplotlib.axes._subplots.AxesSubplot at 0x23347f36b00>"
      ]
     },
     "execution_count": 8,
     "metadata": {},
     "output_type": "execute_result"
    },
    {
     "data": {
      "image/png": "[encoded data removed]",
      "text/plain": [
       "<Figure size 432x288 with 1 Axes>"
      ]
     },
     "metadata": {
      "needs_background": "light"
     },
     "output_type": "display_data"
    }
   ],
   "source": [
    "adult[\"Education\"].value_counts().plot(kind=\"bar\")"
   ]
  },
  {
   "cell_type": "code",
   "execution_count": 9,
   "metadata": {},
   "outputs": [
    {
     "name": "stdout",
     "output_type": "stream",
     "text": [
      "Numero de:  HS-grad que ganham <=50k : 8826\n",
      "Numero total de :  HS-grad 10501\n",
      "Porcentagem de pessoas que ganham menos de 50k :  84.04913817731645 %\n",
      " \n"
     ]
    }
   ],
   "source": [
    "ganhaPouco(\"HS-grad\",\"Education\")"
   ]
  },
  {
   "cell_type": "code",
   "execution_count": 10,
   "metadata": {},
   "outputs": [
    {
     "name": "stdout",
     "output_type": "stream",
     "text": [
      "Numero de:  Some-college que ganham <=50k : 5904\n",
      "Numero total de :  Some-college 7291\n",
      "Porcentagem de pessoas que ganham menos de 50k :  80.97654642710191 %\n",
      " \n"
     ]
    }
   ],
   "source": [
    "ganhaPouco(\"Some-college\",\"Education\")"
   ]
  },
  {
   "cell_type": "code",
   "execution_count": 11,
   "metadata": {},
   "outputs": [
    {
     "name": "stdout",
     "output_type": "stream",
     "text": [
      "Numero de:  Prof-school que ganham <=50k : 153\n",
      "Numero total de :  Prof-school 576\n",
      "Porcentagem de pessoas que ganham menos de 50k :  26.5625 %\n",
      " \n"
     ]
    }
   ],
   "source": [
    "ganhaPouco(\"Prof-school\",\"Education\")"
   ]
  },
  {
   "cell_type": "markdown",
   "metadata": {},
   "source": [
    "Vemos que em relacao a educacao temos uma distribuicao mais heterogenea em relacao a Workclass apesar de desequilibrada. Pelos resultados da funcao \"ganhaPouco()\" notamos que saber se uma pessoa se encaixa em prof-school ou em Some-college parece ter influencia relevante no resultado da predicao aqui pretendida. Por isso opta-se por manter esse atributo na analise. "
   ]
  },
  {
   "cell_type": "code",
   "execution_count": 12,
   "metadata": {},
   "outputs": [
    {
     "data": {
      "text/plain": [
       "<matplotlib.axes._subplots.AxesSubplot at 0x23347f40518>"
      ]
     },
     "execution_count": 12,
     "metadata": {},
     "output_type": "execute_result"
    },
    {
     "data": {
      "image/png": "[encoded data removed]",
      "text/plain": [
       "<Figure size 432x288 with 1 Axes>"
      ]
     },
     "metadata": {
      "needs_background": "light"
     },
     "output_type": "display_data"
    }
   ],
   "source": [
    "adult[\"Martial Status\"].value_counts().plot(kind=\"bar\")"
   ]
  },
  {
   "cell_type": "code",
   "execution_count": 13,
   "metadata": {},
   "outputs": [
    {
     "name": "stdout",
     "output_type": "stream",
     "text": [
      "Numero de:  Married-civ-spouse que ganham <=50k : 8284\n",
      "Numero total de :  Married-civ-spouse 14976\n",
      "Porcentagem de pessoas que ganham menos de 50k :  55.31517094017094 %\n",
      " \n"
     ]
    }
   ],
   "source": [
    "ganhaPouco(\"Married-civ-spouse\",\"Martial Status\")"
   ]
  },
  {
   "cell_type": "markdown",
   "metadata": {},
   "source": [
    "Vemos que metade das pessoas sao casadas e que ocorre uma distribuicao homogenea dentro desse grupo entre aqueles que ganham mais e menos de 50k por ano. Sendo assim nao parece fazer sentido considerar atributo para o algoritimo KNN."
   ]
  },
  {
   "cell_type": "code",
   "execution_count": 14,
   "metadata": {},
   "outputs": [
    {
     "data": {
      "text/plain": [
       "<matplotlib.axes._subplots.AxesSubplot at 0x23346b7db38>"
      ]
     },
     "execution_count": 14,
     "metadata": {},
     "output_type": "execute_result"
    },
    {
     "data": {
      "image/png": "[encoded data removed]",
      "text/plain": [
       "<Figure size 432x288 with 1 Axes>"
      ]
     },
     "metadata": {
      "needs_background": "light"
     },
     "output_type": "display_data"
    }
   ],
   "source": [
    "adult[\"Occupation\"].value_counts().plot(kind=\"bar\")"
   ]
  },
  {
   "cell_type": "code",
   "execution_count": 15,
   "metadata": {},
   "outputs": [
    {
     "data": {
      "text/plain": [
       "Prof-specialty       4140\n",
       "Craft-repair         4099\n",
       "Exec-managerial      4066\n",
       "Adm-clerical         3770\n",
       "Sales                3650\n",
       "Other-service        3295\n",
       "Machine-op-inspct    2002\n",
       "Transport-moving     1597\n",
       "Handlers-cleaners    1370\n",
       "Farming-fishing       994\n",
       "Tech-support          928\n",
       "Protective-serv       649\n",
       "Priv-house-serv       149\n",
       "Armed-Forces            9\n",
       "Name: Occupation, dtype: int64"
      ]
     },
     "execution_count": 15,
     "metadata": {},
     "output_type": "execute_result"
    }
   ],
   "source": [
    "adult[\"Occupation\"].value_counts()"
   ]
  },
  {
   "cell_type": "code",
   "execution_count": 16,
   "metadata": {},
   "outputs": [
    {
     "name": "stdout",
     "output_type": "stream",
     "text": [
      "Numero de:  Prof-specialty que ganham <=50k : 2281\n",
      "Numero total de :  Prof-specialty 4140\n",
      "Porcentagem de pessoas que ganham menos de 50k :  55.09661835748792 %\n",
      " \n"
     ]
    }
   ],
   "source": [
    "ganhaPouco(\"Prof-specialty\",\"Occupation\")"
   ]
  },
  {
   "cell_type": "code",
   "execution_count": 17,
   "metadata": {},
   "outputs": [
    {
     "name": "stdout",
     "output_type": "stream",
     "text": [
      "Numero de:  Craft-repair que ganham <=50k : 3170\n",
      "Numero total de :  Craft-repair 4099\n",
      "Porcentagem de pessoas que ganham menos de 50k :  77.33593559404733 %\n",
      " \n"
     ]
    }
   ],
   "source": [
    "ganhaPouco(\"Craft-repair\",\"Occupation\")"
   ]
  },
  {
   "cell_type": "code",
   "execution_count": 18,
   "metadata": {},
   "outputs": [
    {
     "name": "stdout",
     "output_type": "stream",
     "text": [
      "Numero de:  Exec-managerial que ganham <=50k : 2098\n",
      "Numero total de :  Exec-managerial 4066\n",
      "Porcentagem de pessoas que ganham menos de 50k :  51.59862272503689 %\n",
      " \n"
     ]
    }
   ],
   "source": [
    "ganhaPouco(\"Exec-managerial\",\"Occupation\")"
   ]
  },
  {
   "cell_type": "code",
   "execution_count": 19,
   "metadata": {},
   "outputs": [
    {
     "name": "stdout",
     "output_type": "stream",
     "text": [
      "Numero de:  Other-service que ganham <=50k : 3158\n",
      "Numero total de :  Other-service 3295\n",
      "Porcentagem de pessoas que ganham menos de 50k :  95.8421851289833 %\n",
      " \n"
     ]
    }
   ],
   "source": [
    "ganhaPouco(\"Other-service\",\"Occupation\")"
   ]
  },
  {
   "cell_type": "code",
   "execution_count": 20,
   "metadata": {},
   "outputs": [
    {
     "name": "stdout",
     "output_type": "stream",
     "text": [
      "Numero de:  Machine-op-inspct que ganham <=50k : 1752\n",
      "Numero total de :  Machine-op-inspct 2002\n",
      "Porcentagem de pessoas que ganham menos de 50k :  87.51248751248751 %\n",
      " \n"
     ]
    }
   ],
   "source": [
    "ganhaPouco(\"Machine-op-inspct\",\"Occupation\")"
   ]
  },
  {
   "cell_type": "markdown",
   "metadata": {},
   "source": [
    "Com relacao a ocupacao temos uma distribuicao bastante homogenea e eh possivel ver que para categorias de mesma ordem de representatividade temos categorias que sao quase deterministicas da renda como \"other-service\". Dessa forma parece relevante manter esse atributo na analise do KNN."
   ]
  },
  {
   "cell_type": "code",
   "execution_count": 21,
   "metadata": {},
   "outputs": [
    {
     "data": {
      "text/plain": [
       "<matplotlib.axes._subplots.AxesSubplot at 0x233469fb438>"
      ]
     },
     "execution_count": 21,
     "metadata": {},
     "output_type": "execute_result"
    },
    {
     "data": {
      "image/png": "[encoded data removed]",
      "text/plain": [
       "<Figure size 432x288 with 1 Axes>"
      ]
     },
     "metadata": {
      "needs_background": "light"
     },
     "output_type": "display_data"
    }
   ],
   "source": [
    "adult[\"Relationship\"].value_counts().plot(kind=\"bar\")"
   ]
  },
  {
   "cell_type": "code",
   "execution_count": 22,
   "metadata": {},
   "outputs": [
    {
     "data": {
      "text/plain": [
       "Husband           13193\n",
       "Not-in-family      8305\n",
       "Own-child          5068\n",
       "Unmarried          3446\n",
       "Wife               1568\n",
       "Other-relative      981\n",
       "Name: Relationship, dtype: int64"
      ]
     },
     "execution_count": 22,
     "metadata": {},
     "output_type": "execute_result"
    }
   ],
   "source": [
    "adult[\"Relationship\"].value_counts()"
   ]
  },
  {
   "cell_type": "code",
   "execution_count": 23,
   "metadata": {},
   "outputs": [
    {
     "name": "stdout",
     "output_type": "stream",
     "text": [
      "Numero de:  Husband que ganham <=50k : 7275\n",
      "Numero total de :  Husband 13193\n",
      "Porcentagem de pessoas que ganham menos de 50k :  55.142878799363295 %\n",
      " \n"
     ]
    }
   ],
   "source": [
    " ganhaPouco(\"Husband\",\"Relationship\")"
   ]
  },
  {
   "cell_type": "code",
   "execution_count": 24,
   "metadata": {},
   "outputs": [
    {
     "name": "stdout",
     "output_type": "stream",
     "text": [
      "Numero de:  Not-in-family que ganham <=50k : 7449\n",
      "Numero total de :  Not-in-family 8305\n",
      "Porcentagem de pessoas que ganham menos de 50k :  89.69295605057195 %\n",
      " \n"
     ]
    }
   ],
   "source": [
    "ganhaPouco(\"Not-in-family\",\"Relationship\")"
   ]
  },
  {
   "cell_type": "code",
   "execution_count": 25,
   "metadata": {},
   "outputs": [
    {
     "name": "stdout",
     "output_type": "stream",
     "text": [
      "Numero de:  Own-child que ganham <=50k : 5001\n",
      "Numero total de :  Own-child 5068\n",
      "Porcentagem de pessoas que ganham menos de 50k :  98.67797947908446 %\n",
      " \n",
      "Numero de:  Unmarried que ganham <=50k : 3228\n",
      "Numero total de :  Unmarried 3446\n",
      "Porcentagem de pessoas que ganham menos de 50k :  93.67382472431805 %\n",
      " \n"
     ]
    }
   ],
   "source": [
    "ganhaPouco(\"Own-child\",\"Relationship\")\n",
    "\n",
    "ganhaPouco(\"Unmarried\",\"Relationship\")"
   ]
  },
  {
   "cell_type": "code",
   "execution_count": 26,
   "metadata": {},
   "outputs": [
    {
     "name": "stdout",
     "output_type": "stream",
     "text": [
      "Numero de:  Wife que ganham <=50k : 823\n",
      "Numero total de :  Wife 1568\n",
      "Porcentagem de pessoas que ganham menos de 50k :  52.48724489795919 %\n",
      " \n"
     ]
    }
   ],
   "source": [
    "ganhaPouco(\"Wife\",\"Relationship\")"
   ]
  },
  {
   "cell_type": "code",
   "execution_count": 27,
   "metadata": {},
   "outputs": [
    {
     "name": "stdout",
     "output_type": "stream",
     "text": [
      "Numero de:  Other-relative que ganham <=50k : 944\n",
      "Numero total de :  Other-relative 981\n",
      "Porcentagem de pessoas que ganham menos de 50k :  96.2283384301733 %\n",
      " \n"
     ]
    }
   ],
   "source": [
    "ganhaPouco(\"Other-relative\",\"Relationship\")"
   ]
  },
  {
   "cell_type": "markdown",
   "metadata": {},
   "source": [
    "Temos que em 51% dos casos a chance de se ganhar menos de 50k por ano \n",
    "eh maior ou igual a 89%. Sendo assim parce razoavel manter esse atributo \n",
    "na analise do KNN."
   ]
  },
  {
   "cell_type": "code",
   "execution_count": 28,
   "metadata": {},
   "outputs": [
    {
     "data": {
      "text/plain": [
       "<matplotlib.axes._subplots.AxesSubplot at 0x23346c355f8>"
      ]
     },
     "execution_count": 28,
     "metadata": {},
     "output_type": "execute_result"
    },
    {
     "data": {
      "image/png": "[encoded data removed]",
      "text/plain": [
       "<Figure size 432x288 with 1 Axes>"
      ]
     },
     "metadata": {
      "needs_background": "light"
     },
     "output_type": "display_data"
    }
   ],
   "source": [
    "adult[\"Race\"].value_counts().plot(kind=\"bar\")"
   ]
  },
  {
   "cell_type": "code",
   "execution_count": 29,
   "metadata": {},
   "outputs": [
    {
     "data": {
      "text/plain": [
       "White                 27816\n",
       "Black                  3124\n",
       "Asian-Pac-Islander     1039\n",
       "Amer-Indian-Eskimo      311\n",
       "Other                   271\n",
       "Name: Race, dtype: int64"
      ]
     },
     "execution_count": 29,
     "metadata": {},
     "output_type": "execute_result"
    }
   ],
   "source": [
    "adult[\"Race\"].value_counts()"
   ]
  },
  {
   "cell_type": "code",
   "execution_count": 30,
   "metadata": {},
   "outputs": [
    {
     "name": "stdout",
     "output_type": "stream",
     "text": [
      "Numero de:  White que ganham <=50k : 20699\n",
      "Numero total de :  White 27816\n",
      "Porcentagem de pessoas que ganham menos de 50k :  74.41400632729365 %\n",
      " \n"
     ]
    }
   ],
   "source": [
    "ganhaPouco(\"White\",\"Race\")"
   ]
  },
  {
   "cell_type": "markdown",
   "metadata": {},
   "source": [
    "Numa traducao direta da base adult a \"raca\" parce nao ser de interesse na anlise desse classificador haja vista que mais de 85% da populacao, admitindo que esse database seja reprensenativo da populacao a qual se aplicao classificador eh branca, ou seja, quase qualquer ponto tera pessoas brancas ao seu redor seja branco ou nao. Alem disso a renda das pessoas brancas nao parce ser uma certeza devido ao percentual nao muito expressivo de aproximadamente 75% associado as pessoas que ganham menos de 50k anualmente."
   ]
  },
  {
   "cell_type": "code",
   "execution_count": 31,
   "metadata": {},
   "outputs": [
    {
     "data": {
      "text/plain": [
       "Male      21790\n",
       "Female    10771\n",
       "Name: Sex, dtype: int64"
      ]
     },
     "execution_count": 31,
     "metadata": {},
     "output_type": "execute_result"
    },
    {
     "data": {
      "image/png": "[encoded data removed]",
      "text/plain": [
       "<Figure size 432x288 with 1 Axes>"
      ]
     },
     "metadata": {
      "needs_background": "light"
     },
     "output_type": "display_data"
    }
   ],
   "source": [
    "adult[\"Sex\"].value_counts().plot(kind=\"bar\")\n",
    "adult[\"Sex\"].value_counts()"
   ]
  },
  {
   "cell_type": "code",
   "execution_count": 32,
   "metadata": {},
   "outputs": [
    {
     "name": "stdout",
     "output_type": "stream",
     "text": [
      "Numero de:  Male que ganham <=50k : 15128\n",
      "Numero total de :  Male 21790\n",
      "Porcentagem de pessoas que ganham menos de 50k :  69.42634235888022 %\n",
      " \n"
     ]
    }
   ],
   "source": [
    "ganhaPouco(\"Male\",\"Sex\")"
   ]
  },
  {
   "cell_type": "markdown",
   "metadata": {},
   "source": [
    "Vemos que o Atributo sexo nao eh tao relevante ja que a mairia eh homem e dentro dessa categoria nao temos um numero muito expressivo de pessoas que ganham menos de 50k por ano. Dessa forma nao vale a pena considerar isso ana anlise do KNN."
   ]
  },
  {
   "cell_type": "code",
   "execution_count": 33,
   "metadata": {},
   "outputs": [
    {
     "data": {
      "text/plain": [
       "<matplotlib.axes._subplots.AxesSubplot at 0x23346cd9828>"
      ]
     },
     "execution_count": 33,
     "metadata": {},
     "output_type": "execute_result"
    },
    {
     "data": {
      "image/png": "[encoded data removed]",
      "text/plain": [
       "<Figure size 432x288 with 1 Axes>"
      ]
     },
     "metadata": {
      "needs_background": "light"
     },
     "output_type": "display_data"
    }
   ],
   "source": [
    "adult[\"Capital Gain\"].value_counts().plot(kind=\"bar\")"
   ]
  },
  {
   "cell_type": "code",
   "execution_count": 34,
   "metadata": {},
   "outputs": [
    {
     "data": {
      "text/plain": [
       "0        29849\n",
       "15024      347\n",
       "7688       284\n",
       "7298       246\n",
       "99999      159\n",
       "5178        97\n",
       "3103        97\n",
       "4386        70\n",
       "5013        69\n",
       "8614        55\n",
       "3325        53\n",
       "2174        48\n",
       "10520       43\n",
       "4064        42\n",
       "4650        41\n",
       "14084       41\n",
       "20051       37\n",
       "3137        37\n",
       "27828       34\n",
       "594         34\n",
       "3908        32\n",
       "2829        31\n",
       "13550       27\n",
       "6849        27\n",
       "14344       26\n",
       "1055        25\n",
       "2885        24\n",
       "3411        24\n",
       "4787        23\n",
       "2176        23\n",
       "         ...  \n",
       "9562         4\n",
       "1086         4\n",
       "25124        4\n",
       "1424         3\n",
       "2961         3\n",
       "7896         3\n",
       "4687         3\n",
       "2936         3\n",
       "1173         3\n",
       "5721         3\n",
       "2009         3\n",
       "6360         3\n",
       "41310        2\n",
       "6723         2\n",
       "3456         2\n",
       "2993         2\n",
       "401          2\n",
       "11678        2\n",
       "2062         2\n",
       "18481        2\n",
       "7978         1\n",
       "1639         1\n",
       "2538         1\n",
       "2387         1\n",
       "5060         1\n",
       "4931         1\n",
       "1455         1\n",
       "6097         1\n",
       "22040        1\n",
       "1111         1\n",
       "Name: Capital Gain, Length: 119, dtype: int64"
      ]
     },
     "execution_count": 34,
     "metadata": {},
     "output_type": "execute_result"
    }
   ],
   "source": [
    "adult[\"Capital Gain\"].value_counts()"
   ]
  },
  {
   "cell_type": "code",
   "execution_count": 35,
   "metadata": {},
   "outputs": [
    {
     "name": "stdout",
     "output_type": "stream",
     "text": [
      "Numero de:  0 que ganham <=50k : 23685\n",
      "Numero total de :  0 29849\n",
      "Porcentagem de pessoas que ganham menos de 50k :  79.34939193942846 %\n",
      " \n",
      "Numero de:  10520 que ganham <=50k : 0\n",
      "Numero total de :  10520 43\n",
      "Porcentagem de pessoas que ganham menos de 50k :  0.0 %\n",
      " \n",
      "Numero de:  15024 que ganham <=50k : 0\n",
      "Numero total de :  15024 347\n",
      "Porcentagem de pessoas que ganham menos de 50k :  0.0 %\n",
      " \n",
      "Numero de:  99999 que ganham <=50k : 0\n",
      "Numero total de :  99999 159\n",
      "Porcentagem de pessoas que ganham menos de 50k :  0.0 %\n",
      " \n"
     ]
    }
   ],
   "source": [
    "ganhaPouco(0,\"Capital Gain\")\n",
    "ganhaPouco(10520,\"Capital Gain\")\n",
    "ganhaPouco(15024,\"Capital Gain\")\n",
    "ganhaPouco(99999,\"Capital Gain\")"
   ]
  },
  {
   "cell_type": "markdown",
   "metadata": {},
   "source": [
    "Vemos que para os casos em que \"Capital Gain\" eh nao nulo 100% ou praticamente 100% dos casos a pessoas ganham mais de 50K por ano. Dessa forma, apesar da dominancia de pessoas cujo \"Capital Gain\" eh nulo esse atributo eh determinante da renda o que torna razoavel sua manutencao na analise. Uma logica analoga segue para o \"Capital Loss\""
   ]
  },
  {
   "cell_type": "code",
   "execution_count": 36,
   "metadata": {},
   "outputs": [
    {
     "data": {
      "text/plain": [
       "<matplotlib.axes._subplots.AxesSubplot at 0x23347195048>"
      ]
     },
     "execution_count": 36,
     "metadata": {},
     "output_type": "execute_result"
    },
    {
     "data": {
      "image/png": "[encoded data removed]",
      "text/plain": [
       "<Figure size 432x288 with 1 Axes>"
      ]
     },
     "metadata": {
      "needs_background": "light"
     },
     "output_type": "display_data"
    }
   ],
   "source": [
    "adult[\"Hours per week\"].value_counts().plot(kind=\"bar\")"
   ]
  },
  {
   "cell_type": "code",
   "execution_count": 37,
   "metadata": {},
   "outputs": [
    {
     "data": {
      "text/plain": [
       "40    15217\n",
       "50     2819\n",
       "45     1824\n",
       "60     1475\n",
       "35     1297\n",
       "20     1224\n",
       "30     1149\n",
       "55      694\n",
       "25      674\n",
       "48      517\n",
       "38      476\n",
       "15      404\n",
       "70      291\n",
       "10      278\n",
       "32      266\n",
       "24      252\n",
       "65      244\n",
       "36      220\n",
       "42      219\n",
       "44      212\n",
       "16      205\n",
       "12      173\n",
       "43      151\n",
       "37      149\n",
       "8       145\n",
       "52      138\n",
       "80      133\n",
       "56       97\n",
       "28       86\n",
       "99       85\n",
       "      ...  \n",
       "19       14\n",
       "64       14\n",
       "51       13\n",
       "85       13\n",
       "68       12\n",
       "98       11\n",
       "11       11\n",
       "63       10\n",
       "78        8\n",
       "29        7\n",
       "77        6\n",
       "59        5\n",
       "31        5\n",
       "96        5\n",
       "67        4\n",
       "91        3\n",
       "76        3\n",
       "81        3\n",
       "73        2\n",
       "89        2\n",
       "97        2\n",
       "88        2\n",
       "86        2\n",
       "61        2\n",
       "95        2\n",
       "92        1\n",
       "94        1\n",
       "87        1\n",
       "74        1\n",
       "82        1\n",
       "Name: Hours per week, Length: 94, dtype: int64"
      ]
     },
     "execution_count": 37,
     "metadata": {},
     "output_type": "execute_result"
    }
   ],
   "source": [
    "adult[\"Hours per week\"].value_counts()"
   ]
  },
  {
   "cell_type": "code",
   "execution_count": 38,
   "metadata": {},
   "outputs": [
    {
     "name": "stdout",
     "output_type": "stream",
     "text": [
      "Numero de:  80 que ganham <=50k : 76\n",
      "Numero total de :  80 133\n",
      "Porcentagem de pessoas que ganham menos de 50k :  57.142857142857146 %\n",
      " \n",
      "Numero de:  77 que ganham <=50k : 6\n",
      "Numero total de :  77 6\n",
      "Porcentagem de pessoas que ganham menos de 50k :  100.0 %\n",
      " \n",
      "Numero de:  50 que ganham <=50k : 1543\n",
      "Numero total de :  50 2819\n",
      "Porcentagem de pessoas que ganham menos de 50k :  54.73572188719404 %\n",
      " \n",
      "Numero de:  45 que ganham <=50k : 1139\n",
      "Numero total de :  45 1824\n",
      "Porcentagem de pessoas que ganham menos de 50k :  62.44517543859649 %\n",
      " \n",
      "Numero de:  40 que ganham <=50k : 11970\n",
      "Numero total de :  40 15217\n",
      "Porcentagem de pessoas que ganham menos de 50k :  78.66202273772754 %\n",
      " \n",
      "Numero de:  20 que ganham <=50k : 1146\n",
      "Numero total de :  20 1224\n",
      "Porcentagem de pessoas que ganham menos de 50k :  93.62745098039215 %\n",
      " \n",
      "Numero de:  29 que ganham <=50k : 6\n",
      "Numero total de :  29 7\n",
      "Porcentagem de pessoas que ganham menos de 50k :  85.71428571428571 %\n",
      " \n",
      "Numero de:  19 que ganham <=50k : 14\n",
      "Numero total de :  19 14\n",
      "Porcentagem de pessoas que ganham menos de 50k :  100.0 %\n",
      " \n"
     ]
    }
   ],
   "source": [
    "ganhaPouco(80,\"Hours per week\")\n",
    "ganhaPouco(77,\"Hours per week\")\n",
    "ganhaPouco(50,\"Hours per week\")\n",
    "ganhaPouco(45,\"Hours per week\")\n",
    "ganhaPouco(40,\"Hours per week\")\n",
    "ganhaPouco(20,\"Hours per week\")\n",
    "ganhaPouco(29,\"Hours per week\")\n",
    "ganhaPouco(19,\"Hours per week\")"
   ]
  },
  {
   "cell_type": "markdown",
   "metadata": {},
   "source": [
    "A principio parece interessante considerar as horas trabalhadas por semana nessa analise. O problema é que quase metade das pessoas trabalham a mesma quantidade de horas (40h), e dentro desse grupo não há uma definicao exatada da renda dessas pessoas. Também observa-se que outros regimes de trabalhos mais frequentes tambem nao determinam muito bem a renda das pessoas inseridos neles. Sendo assim, optou-se por nao considerar esse atributo na elaboracao do KNN."
   ]
  },
  {
   "cell_type": "code",
   "execution_count": 39,
   "metadata": {},
   "outputs": [
    {
     "data": {
      "text/plain": [
       "<matplotlib.axes._subplots.AxesSubplot at 0x233473e5940>"
      ]
     },
     "execution_count": 39,
     "metadata": {},
     "output_type": "execute_result"
    },
    {
     "data": {
      "image/png": "[encoded data removed]",
      "text/plain": [
       "<Figure size 432x288 with 1 Axes>"
      ]
     },
     "metadata": {
      "needs_background": "light"
     },
     "output_type": "display_data"
    }
   ],
   "source": [
    "adult[\"Country\"].value_counts().plot(kind=\"bar\")"
   ]
  },
  {
   "cell_type": "markdown",
   "metadata": {},
   "source": [
    "Quase todos sao estadunidenses. Nao parece interessante usar esse atributo no KNN."
   ]
  },
  {
   "cell_type": "code",
   "execution_count": null,
   "metadata": {},
   "outputs": [],
   "source": []
  },
  {
   "cell_type": "code",
   "execution_count": null,
   "metadata": {},
   "outputs": [],
   "source": []
  },
  {
   "cell_type": "code",
   "execution_count": null,
   "metadata": {},
   "outputs": [],
   "source": []
  },
  {
   "cell_type": "code",
   "execution_count": null,
   "metadata": {},
   "outputs": [],
   "source": []
  },
  {
   "cell_type": "code",
   "execution_count": null,
   "metadata": {},
   "outputs": [],
   "source": []
  },
  {
   "cell_type": "code",
   "execution_count": null,
   "metadata": {},
   "outputs": [],
   "source": []
  }
 ],
 "metadata": {
  "kernelspec": {
   "display_name": "Python 3",
   "language": "python",
   "name": "python3"
  },
  "language_info": {
   "codemirror_mode": {
    "name": "ipython",
    "version": 3
   },
   "file_extension": ".py",
   "mimetype": "text/x-python",
   "name": "python",
   "nbconvert_exporter": "python",
   "pygments_lexer": "ipython3",
   "version": "3.7.3"
  }
 },
 "nbformat": 4,
 "nbformat_minor": 2
}
